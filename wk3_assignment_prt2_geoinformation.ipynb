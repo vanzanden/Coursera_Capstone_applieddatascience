{
    "nbformat": 4, 
    "nbformat_minor": 2, 
    "cells": [
        {
            "source": "# Peer-graded Assignment: \n## Segmenting and Clustering Neighborhoods in Toronto", 
            "cell_type": "markdown", 
            "metadata": {}
        }, 
        {
            "source": "### part 1: \nbased on information on wikipedia page https://en.wikipedia.org/wiki/List_of_postal_codes_of_Canada:_M a pandas dataframe with columns\n    * PostalCode\n    * Borough\n    * Neighborhood\n   ", 
            "cell_type": "markdown", 
            "metadata": {}
        }, 
        {
            "source": "The wikipedia list is a list of postal codes in Canada where the first letter is M. \nPostal codes beginning with M are located within the city of Toronto in the province of Ontario.", 
            "cell_type": "markdown", 
            "metadata": {}
        }, 
        {
            "source": "### documentation\nhttps://beautiful-soup-4.readthedocs.io/en/latest/#\n\n see https://www.youtube.com/watch?v=ng2o98k983k for use of beautifullsoup\n    ", 
            "cell_type": "markdown", 
            "metadata": {}
        }, 
        {
            "execution_count": 17, 
            "outputs": [], 
            "source": "# with open('simple.html') as html_file:\n#    soup = BeautifulSoup(html_file, 'lxml')\n# print(soup) ## the entire code, not indented   \n# print(soup.prettify()) ## indented\n\n# match = soup.title  ## finds the title tag (including tags)\n# match = soup.title.text\n# print(match)\n\n# match = soup.div\n# match = soup.find('div')   ## results the same (13:00)\n# match = soup.find('div', class_='footer')  ## finds a certain (here underscore because class is python specific word\n\n# article = soup.find('div', class_='article')\n# headline = article.h2.a.text\n# summary = article.p.text\n\n# for article in soup.find_all('div', class_='article'):\n#    headline = article.h2.a.text\n#    summary = article.p.text\n", 
            "metadata": {}, 
            "cell_type": "code"
        }, 
        {
            "source": "### libraries install\n", 
            "cell_type": "markdown", 
            "metadata": {}
        }, 
        {
            "execution_count": 18, 
            "outputs": [], 
            "source": "## in anaconda prompt:  \n## conda install -c conda-forge beautifulsoup4 --yes\n## conda install -c conda-forge lxml --yes   # 4:33\n## conda install -c conda-forge html5lib --yes   # not done\n##\n## conda install -c conda-forge geocoder --yes   # not done, too much changes in the environment\n## conda install -c esri arcgis --verbose\n", 
            "metadata": {}, 
            "cell_type": "code"
        }, 
        {
            "source": "### libraries import\n", 
            "cell_type": "markdown", 
            "metadata": {}
        }, 
        {
            "execution_count": 19, 
            "outputs": [], 
            "source": "from bs4 import BeautifulSoup \nimport requests\nimport pandas as pd\nimport numpy as np\n\nfrom arcgis.gis import GIS\n#from arcgis.gis import *\nfrom arcgis.geocoding import geocode, reverse_geocode\n#from arcgis.geometry import Point", 
            "metadata": {}, 
            "cell_type": "code"
        }, 
        {
            "source": "### data scraping", 
            "cell_type": "markdown", 
            "metadata": {}
        }, 
        {
            "execution_count": 20, 
            "outputs": [
                {
                    "output_type": "stream", 
                    "text": "done\n", 
                    "name": "stdout"
                }
            ], 
            "source": "url='https://en.wikipedia.org/wiki/List_of_postal_codes_of_Canada:_M'\nsource = requests.get(url).text\nsoup_raw = BeautifulSoup(source, 'html5')\n# print(soup_raw.prettify())\nprint(\"done\")", 
            "metadata": {}, 
            "cell_type": "code"
        }, 
        {
            "execution_count": 21, 
            "outputs": [
                {
                    "output_type": "stream", 
                    "text": "done\n", 
                    "name": "stdout"
                }
            ], 
            "source": "soup_table = soup_raw.tbody\n# print(soup_table)\n## parser has added columnnames into tbody while wikipediasite had a thead-tag\nprint(\"done\")", 
            "metadata": {}, 
            "cell_type": "code"
        }, 
        {
            "execution_count": 22, 
            "outputs": [
                {
                    "output_type": "stream", 
                    "text": "done\n", 
                    "name": "stdout"
                }
            ], 
            "source": "## building the dataframe from the soup_table result\nscraped_result = []\n#result = pd.DataFrame(columns = [\"PostalCode\"])\nscraped_result = pd.DataFrame(columns = [\"PostalCode\",\"Borough\",\"Neighborhood\"])\nfor soup_tr in soup_table.find_all('tr'):\n    i = 1 \n    ## for empty records in tablerows where there is no table data (like the table header line) a dummy result is given\n    PostalCode = \"A1A\"\n    Borough = \"Not assigned\"\n    Neighborhood = \"Not assigned\"\n    for  soup_td in soup_tr.find_all('td'):\n        if i == 3:\n            Neighborhood = str(soup_td.text)\n            Neighborhood = Neighborhood.replace(\"\\n\",\"\")\n        if i == 2:\n            Borough = str(soup_td.text)\n            i = 3\n        if i == 1:\n            PostalCode = str(soup_td.text)\n            i = 2\n    newline = pd.DataFrame([[PostalCode,Borough,Neighborhood]], columns = [\"PostalCode\",\"Borough\",\"Neighborhood\"] )\n    scraped_result = scraped_result.append(newline, ignore_index=True)\nprint('done')\n# scraped_result\n#newline", 
            "metadata": {
                "scrolled": true
            }, 
            "cell_type": "code"
        }, 
        {
            "source": "### cleaning data", 
            "cell_type": "markdown", 
            "metadata": {}
        }, 
        {
            "source": "***Only process the cells that have an assigned borough. Ignore cells with a borough that is Not assigned.***", 
            "cell_type": "markdown", 
            "metadata": {}
        }, 
        {
            "execution_count": 23, 
            "outputs": [
                {
                    "output_type": "stream", 
                    "text": "done\n", 
                    "name": "stdout"
                }
            ], 
            "source": "## removing lines with \"Not assigned\" in Borough, this includes eventual dummy records\ncleaning1 = scraped_result.copy()\ncleaning1 = cleaning1.loc[cleaning1['Borough'] != \"Not assigned\"]\nprint('done')\n# cleaning1", 
            "metadata": {}, 
            "cell_type": "code"
        }, 
        {
            "source": "***If a cell has a borough but a Not assigned neighborhood, then the neighborhood will be the same as the borough. \nSo, the value of the Borough AND the Neighborhood columns will be 'Queen's Park'***", 
            "cell_type": "markdown", 
            "metadata": {}
        }, 
        {
            "execution_count": 24, 
            "outputs": [
                {
                    "output_type": "stream", 
                    "text": "done\n", 
                    "name": "stdout"
                }, 
                {
                    "output_type": "stream", 
                    "text": "F:\\programfilesF\\Anaconda\\lib\\site-packages\\ipykernel_launcher.py:8: SettingWithCopyWarning: \nA value is trying to be set on a copy of a slice from a DataFrame.\nTry using .loc[row_indexer,col_indexer] = value instead\n\nSee the caveats in the documentation: http://pandas.pydata.org/pandas-docs/stable/indexing.html#indexing-view-versus-copy\n  \n", 
                    "name": "stderr"
                }
            ], 
            "source": "## where \"not assigned\" in Neighborhood copy the name of the borough\n## assumption is made that this never applies for PostalCodes which cover multiple Neighborhoods, \n## hence the order of cleaning can be different than in the 'rules' of the assignment \ncleaning2 = cleaning1.copy()\n## splitting the dataset in two parts, not to be adjusted, and to adjusted\ncleaning2a = cleaning2.loc[cleaning2['Neighborhood'] != \"Not assigned\"]\ncleaning2b = cleaning2.loc[cleaning2['Neighborhood'] == \"Not assigned\"]\ncleaning2b['Neighborhood'] = cleaning2b['Borough'] \n## previous line induced the following error: \n##     \"A value is trying to be set on a copy of a slice from a DataFrame.\n##     Try using .loc[row_indexer,col_indexer] = value instead\n##     See the caveats in the documentation: \n##     http://pandas.pydata.org/pandas-docs/stable/indexing.html#indexing-view-versus-copy\"\n## In this case it is a false positive: \n## see https://stackoverflow.com/questions/20625582/how-to-deal-with-settingwithcopywarning-in-pandas#20627316\n\n## and combining the two parts\ncleaning2 = cleaning2a.append(cleaning2b)\nprint('done')\n# cleaning2\n", 
            "metadata": {}, 
            "cell_type": "code"
        }, 
        {
            "source": "***More than one neighborhood can exist in one postal code area. For example, in the table on the Wikipedia page, you will notice that M5A is listed twice and has two neighborhoods: Harbourfront and Regent Park. These two rows will be combined into one row with the neighborhoods separated with a comma as shown in row 11 in the above table.***", 
            "cell_type": "markdown", 
            "metadata": {}
        }, 
        {
            "execution_count": 25, 
            "outputs": [
                {
                    "output_type": "stream", 
                    "text": "done\n", 
                    "name": "stdout"
                }
            ], 
            "source": "## the dataframe cleaning3 is buildup by adding lines from previous step (cleaning2)\ncleaning3 = pd.DataFrame(columns = [\"PostalCode\", \"Borough\", \"Neighborhood\"])\nfor postalcode in set(cleaning2['PostalCode']):\n    tempstring = ''\n    no_of_neighborhoods = cleaning2[cleaning2['PostalCode'] == postalcode].shape[0]\n    ## making a small dataframe with just the current postalcode\n    tempdata = cleaning2[cleaning2['PostalCode'] == postalcode]\n    tempdata = tempdata.reset_index()\n    for i in range(0,no_of_neighborhoods):\n        ## the assumption is made that each PostalCode, even when it compasses more than one Neighborhood\n        ## it only compasses only one Borough. so it doesn't matter from which line the borough information comes\n        borough = tempdata.loc[i,'Borough']\n        strippednb = tempdata.loc[i,'Neighborhood'].strip()\n        tempstring = tempstring + strippednb \n        if i < no_of_neighborhoods-1:\n            tempstring = tempstring + \", \"\n    newline = pd.DataFrame([[postalcode,borough,tempstring]], columns = [\"PostalCode\",\"Borough\",\"Neighborhood\"] )\n    cleaning3 = cleaning3.append(newline)\n\ncleaning3 = cleaning3.reset_index()\nprint('done')\n#cleaning3 \n", 
            "metadata": {}, 
            "cell_type": "code"
        }, 
        {
            "execution_count": 26, 
            "outputs": [], 
            "source": "resultA = cleaning3.copy()", 
            "metadata": {}, 
            "cell_type": "code"
        }, 
        {
            "source": "## results", 
            "cell_type": "markdown", 
            "metadata": {}
        }, 
        {
            "execution_count": 27, 
            "outputs": [], 
            "source": "#resultA", 
            "metadata": {}, 
            "cell_type": "code"
        }, 
        {
            "execution_count": 28, 
            "outputs": [
                {
                    "execution_count": 28, 
                    "output_type": "execute_result", 
                    "data": {
                        "text/plain": "(103, 4)"
                    }, 
                    "metadata": {}
                }
            ], 
            "source": "resultA.shape", 
            "metadata": {
                "scrolled": true
            }, 
            "cell_type": "code"
        }, 
        {
            "source": "## Getting geo-information\nsince installing of geocoder required a substantial change to my local environment including DOWNGRADES  of packages I opted for using ArcGIS environment. geocoding and reverse geocoding can be done anonymous.\n", 
            "cell_type": "markdown", 
            "metadata": {}
        }, 
        {
            "source": "### libraries install \nfor a good overview of the notebook installing libraries is done in the preamble of this notebook.\n\n    * from arcgis.gis import GIS\n    * #from arcgis.gis import#\n    * from arcgis.geocoding import geocode, reverse_geocode\n    * #from arcgis.geometry import Point", 
            "cell_type": "markdown", 
            "metadata": {}
        }, 
        {
            "source": "## retrieving the information\ngetting information about neighborhoods is done in a series of calls to the api. \nI will try if the first 3 (alphanumerics) of the PostalCode will yield an answer", 
            "cell_type": "markdown", 
            "metadata": {}
        }, 
        {
            "source": "Log into ArcGIS Online as an anonymous user.\nSimple geocoding and reverse geocoding do not require credits, hence you need not log in using your credentials.", 
            "cell_type": "markdown", 
            "metadata": {}
        }, 
        {
            "execution_count": 29, 
            "outputs": [], 
            "source": "dev_gis = GIS()", 
            "metadata": {}, 
            "cell_type": "code"
        }, 
        {
            "execution_count": 30, 
            "outputs": [], 
            "source": "#geocode(address=\"Bathorst Manor\")[0]\n#geocode(address =\"M3H\", search_extent=None, location=None, distance=None, out_sr=None, category=None, out_fields='*', max_locations=10, magic_key=None, for_storage=False, geocoder=None, as_featureset=False)", 
            "metadata": {}, 
            "cell_type": "code"
        }, 
        {
            "execution_count": 31, 
            "outputs": [], 
            "source": "geodataframe = resultA.copy()\ngeodataframe['Latitude'] = 0\ngeodataframe['Longitude'] = 0\n", 
            "metadata": {}, 
            "cell_type": "code"
        }, 
        {
            "execution_count": 34, 
            "outputs": [], 
            "source": "for i in range(geodataframe.shape[0]):\n    postalcode = geodataframe.loc[i,'PostalCode']\n    queryresult = geocode(address=postalcode,search_extent=None, out_fields='location', max_locations=1, as_featureset=False)\n    longitude = queryresult[0]['location']['x'] \n    latitude = queryresult[0]['location']['y']\n    geodataframe.loc[i, 'Longitude'] = longitude\n    geodataframe.loc[i, 'Latitude'] = latitude", 
            "metadata": {}, 
            "cell_type": "code"
        }, 
        {
            "execution_count": 35, 
            "outputs": [], 
            "source": "resultB=geodataframe.copy()", 
            "metadata": {}, 
            "cell_type": "code"
        }, 
        {
            "source": "## Results", 
            "cell_type": "markdown", 
            "metadata": {}
        }, 
        {
            "execution_count": 36, 
            "outputs": [
                {
                    "execution_count": 36, 
                    "output_type": "execute_result", 
                    "data": {
                        "text/html": "<div>\n<style scoped>\n    .dataframe tbody tr th:only-of-type {\n        vertical-align: middle;\n    }\n\n    .dataframe tbody tr th {\n        vertical-align: top;\n    }\n\n    .dataframe thead th {\n        text-align: right;\n    }\n</style>\n<table border=\"1\" class=\"dataframe\">\n  <thead>\n    <tr style=\"text-align: right;\">\n      <th></th>\n      <th>index</th>\n      <th>PostalCode</th>\n      <th>Borough</th>\n      <th>Neighborhood</th>\n      <th>Latitude</th>\n      <th>Longitude</th>\n    </tr>\n  </thead>\n  <tbody>\n    <tr>\n      <th>0</th>\n      <td>0</td>\n      <td>M5B</td>\n      <td>Downtown Toronto</td>\n      <td>Ryerson, Garden District</td>\n      <td>43.657363</td>\n      <td>-79.378180</td>\n    </tr>\n    <tr>\n      <th>1</th>\n      <td>0</td>\n      <td>M1S</td>\n      <td>Scarborough</td>\n      <td>Agincourt</td>\n      <td>43.793940</td>\n      <td>-79.267976</td>\n    </tr>\n    <tr>\n      <th>2</th>\n      <td>0</td>\n      <td>M9W</td>\n      <td>Etobicoke</td>\n      <td>Northwest</td>\n      <td>43.711740</td>\n      <td>-79.579410</td>\n    </tr>\n    <tr>\n      <th>3</th>\n      <td>0</td>\n      <td>M5W</td>\n      <td>Downtown Toronto</td>\n      <td>Stn A PO Boxes 25 The Esplanade</td>\n      <td>43.648690</td>\n      <td>-79.385440</td>\n    </tr>\n    <tr>\n      <th>4</th>\n      <td>0</td>\n      <td>M9C</td>\n      <td>Etobicoke</td>\n      <td>Bloordale Gardens, Eringate, Markland Wood, Ol...</td>\n      <td>43.648573</td>\n      <td>-79.578250</td>\n    </tr>\n    <tr>\n      <th>5</th>\n      <td>0</td>\n      <td>M4J</td>\n      <td>East York</td>\n      <td>East Toronto</td>\n      <td>43.688765</td>\n      <td>-79.334175</td>\n    </tr>\n    <tr>\n      <th>6</th>\n      <td>0</td>\n      <td>M5E</td>\n      <td>Downtown Toronto</td>\n      <td>Berczy Park</td>\n      <td>43.645160</td>\n      <td>-79.373675</td>\n    </tr>\n    <tr>\n      <th>7</th>\n      <td>0</td>\n      <td>M8Z</td>\n      <td>Etobicoke</td>\n      <td>Kingsway Park South West, Mimico NW, The Queen...</td>\n      <td>43.625070</td>\n      <td>-79.527135</td>\n    </tr>\n    <tr>\n      <th>8</th>\n      <td>0</td>\n      <td>M8V</td>\n      <td>Etobicoke</td>\n      <td>Humber Bay Shores, Mimico South, New Toronto</td>\n      <td>43.609920</td>\n      <td>-79.498049</td>\n    </tr>\n    <tr>\n      <th>9</th>\n      <td>0</td>\n      <td>M3M</td>\n      <td>North York</td>\n      <td>Downsview Central</td>\n      <td>43.733610</td>\n      <td>-79.496750</td>\n    </tr>\n    <tr>\n      <th>10</th>\n      <td>0</td>\n      <td>M7R</td>\n      <td>Mississauga</td>\n      <td>Canada Post Gateway Processing Centre</td>\n      <td>43.645406</td>\n      <td>-79.617668</td>\n    </tr>\n    <tr>\n      <th>11</th>\n      <td>0</td>\n      <td>M5G</td>\n      <td>Downtown Toronto</td>\n      <td>Central Bay Street</td>\n      <td>43.656091</td>\n      <td>-79.384930</td>\n    </tr>\n    <tr>\n      <th>12</th>\n      <td>0</td>\n      <td>M6A</td>\n      <td>North York</td>\n      <td>Lawrence Heights, Lawrence Manor</td>\n      <td>43.723270</td>\n      <td>-79.451603</td>\n    </tr>\n    <tr>\n      <th>13</th>\n      <td>0</td>\n      <td>M4E</td>\n      <td>East Toronto</td>\n      <td>The Beaches</td>\n      <td>43.676531</td>\n      <td>-79.295410</td>\n    </tr>\n    <tr>\n      <th>14</th>\n      <td>0</td>\n      <td>M9R</td>\n      <td>Etobicoke</td>\n      <td>Kingsview Village, Martin Grove Gardens, Richv...</td>\n      <td>43.686810</td>\n      <td>-79.557284</td>\n    </tr>\n    <tr>\n      <th>15</th>\n      <td>0</td>\n      <td>M2R</td>\n      <td>North York</td>\n      <td>Willowdale West</td>\n      <td>43.777745</td>\n      <td>-79.445700</td>\n    </tr>\n    <tr>\n      <th>16</th>\n      <td>0</td>\n      <td>M1G</td>\n      <td>Scarborough</td>\n      <td>Woburn</td>\n      <td>43.768216</td>\n      <td>-79.217610</td>\n    </tr>\n    <tr>\n      <th>17</th>\n      <td>0</td>\n      <td>M1H</td>\n      <td>Scarborough</td>\n      <td>Cedarbrae</td>\n      <td>43.769608</td>\n      <td>-79.239440</td>\n    </tr>\n    <tr>\n      <th>18</th>\n      <td>0</td>\n      <td>M5H</td>\n      <td>Downtown Toronto</td>\n      <td>Adelaide, King, Richmond</td>\n      <td>43.649700</td>\n      <td>-79.382582</td>\n    </tr>\n    <tr>\n      <th>19</th>\n      <td>0</td>\n      <td>M5R</td>\n      <td>Central Toronto</td>\n      <td>The Annex, North Midtown, Yorkville</td>\n      <td>43.674840</td>\n      <td>-79.403698</td>\n    </tr>\n    <tr>\n      <th>20</th>\n      <td>0</td>\n      <td>M8X</td>\n      <td>Etobicoke</td>\n      <td>The Kingsway, Montgomery Road, Old Mill North</td>\n      <td>43.653590</td>\n      <td>-79.511130</td>\n    </tr>\n    <tr>\n      <th>21</th>\n      <td>0</td>\n      <td>M4X</td>\n      <td>Downtown Toronto</td>\n      <td>Cabbagetown, St. James Town</td>\n      <td>43.668155</td>\n      <td>-79.366600</td>\n    </tr>\n    <tr>\n      <th>22</th>\n      <td>0</td>\n      <td>M5M</td>\n      <td>North York</td>\n      <td>Bedford Park, Lawrence Manor East</td>\n      <td>43.735805</td>\n      <td>-79.419248</td>\n    </tr>\n    <tr>\n      <th>23</th>\n      <td>0</td>\n      <td>M2K</td>\n      <td>North York</td>\n      <td>Bayview Village</td>\n      <td>43.781015</td>\n      <td>-79.380542</td>\n    </tr>\n    <tr>\n      <th>24</th>\n      <td>0</td>\n      <td>M3N</td>\n      <td>North York</td>\n      <td>Downsview Northwest</td>\n      <td>43.755356</td>\n      <td>-79.519590</td>\n    </tr>\n    <tr>\n      <th>25</th>\n      <td>0</td>\n      <td>M3H</td>\n      <td>North York</td>\n      <td>Bathurst Manor, Downsview North, Wilson Heights</td>\n      <td>43.757875</td>\n      <td>-79.448621</td>\n    </tr>\n    <tr>\n      <th>26</th>\n      <td>0</td>\n      <td>M6K</td>\n      <td>West Toronto</td>\n      <td>Brockton, Exhibition Place, Parkdale Village</td>\n      <td>43.639410</td>\n      <td>-79.425436</td>\n    </tr>\n    <tr>\n      <th>27</th>\n      <td>0</td>\n      <td>M2M</td>\n      <td>North York</td>\n      <td>Newtonbrook, Willowdale</td>\n      <td>43.791300</td>\n      <td>-79.413546</td>\n    </tr>\n    <tr>\n      <th>28</th>\n      <td>0</td>\n      <td>M1V</td>\n      <td>Scarborough</td>\n      <td>Agincourt North, L'Amoreaux East, Milliken, St...</td>\n      <td>43.817595</td>\n      <td>-79.280147</td>\n    </tr>\n    <tr>\n      <th>29</th>\n      <td>0</td>\n      <td>M1B</td>\n      <td>Scarborough</td>\n      <td>Rouge, Malvern</td>\n      <td>43.811650</td>\n      <td>-79.195561</td>\n    </tr>\n    <tr>\n      <th>...</th>\n      <td>...</td>\n      <td>...</td>\n      <td>...</td>\n      <td>...</td>\n      <td>...</td>\n      <td>...</td>\n    </tr>\n    <tr>\n      <th>73</th>\n      <td>0</td>\n      <td>M3C</td>\n      <td>North York</td>\n      <td>Flemingdon Park, Don Mills South</td>\n      <td>43.721375</td>\n      <td>-79.343415</td>\n    </tr>\n    <tr>\n      <th>74</th>\n      <td>0</td>\n      <td>M1E</td>\n      <td>Scarborough</td>\n      <td>Guildwood, Morningside, West Hill</td>\n      <td>43.765690</td>\n      <td>-79.175299</td>\n    </tr>\n    <tr>\n      <th>75</th>\n      <td>0</td>\n      <td>M5L</td>\n      <td>Downtown Toronto</td>\n      <td>Commerce Court, Victoria Hotel</td>\n      <td>43.648395</td>\n      <td>-79.378865</td>\n    </tr>\n    <tr>\n      <th>76</th>\n      <td>0</td>\n      <td>M3K</td>\n      <td>North York</td>\n      <td>CFB Toronto, Downsview East</td>\n      <td>43.738931</td>\n      <td>-79.467320</td>\n    </tr>\n    <tr>\n      <th>77</th>\n      <td>0</td>\n      <td>M6M</td>\n      <td>York</td>\n      <td>Del Ray, Keelsdale, Mount Dennis, Silverthorn</td>\n      <td>43.694545</td>\n      <td>-79.484495</td>\n    </tr>\n    <tr>\n      <th>78</th>\n      <td>0</td>\n      <td>M2L</td>\n      <td>North York</td>\n      <td>Silver Hills, York Mills</td>\n      <td>43.757177</td>\n      <td>-79.379940</td>\n    </tr>\n    <tr>\n      <th>79</th>\n      <td>0</td>\n      <td>M6R</td>\n      <td>West Toronto</td>\n      <td>Parkdale, Roncesvalles</td>\n      <td>43.647870</td>\n      <td>-79.449762</td>\n    </tr>\n    <tr>\n      <th>80</th>\n      <td>0</td>\n      <td>M4R</td>\n      <td>Central Toronto</td>\n      <td>North Toronto West</td>\n      <td>43.714523</td>\n      <td>-79.406960</td>\n    </tr>\n    <tr>\n      <th>81</th>\n      <td>0</td>\n      <td>M9V</td>\n      <td>Etobicoke</td>\n      <td>Albion Gardens, Beaumond Heights, Humbergate, ...</td>\n      <td>43.743795</td>\n      <td>-79.585431</td>\n    </tr>\n    <tr>\n      <th>82</th>\n      <td>0</td>\n      <td>M6J</td>\n      <td>West Toronto</td>\n      <td>Little Portugal, Trinity</td>\n      <td>43.648525</td>\n      <td>-79.417757</td>\n    </tr>\n    <tr>\n      <th>83</th>\n      <td>0</td>\n      <td>M1P</td>\n      <td>Scarborough</td>\n      <td>Dorset Park, Scarborough Town Centre, Wexford ...</td>\n      <td>43.759975</td>\n      <td>-79.268974</td>\n    </tr>\n    <tr>\n      <th>84</th>\n      <td>0</td>\n      <td>M4M</td>\n      <td>East Toronto</td>\n      <td>Studio District</td>\n      <td>43.662766</td>\n      <td>-79.334830</td>\n    </tr>\n    <tr>\n      <th>85</th>\n      <td>0</td>\n      <td>M4H</td>\n      <td>East York</td>\n      <td>Thorncliffe Park</td>\n      <td>43.701240</td>\n      <td>-79.349881</td>\n    </tr>\n    <tr>\n      <th>86</th>\n      <td>0</td>\n      <td>M2P</td>\n      <td>North York</td>\n      <td>York Mills West</td>\n      <td>43.747810</td>\n      <td>-79.400062</td>\n    </tr>\n    <tr>\n      <th>87</th>\n      <td>0</td>\n      <td>M4V</td>\n      <td>Central Toronto</td>\n      <td>Deer Park, Forest Hill SE, Rathnelly, South Hi...</td>\n      <td>43.686003</td>\n      <td>-79.402335</td>\n    </tr>\n    <tr>\n      <th>88</th>\n      <td>0</td>\n      <td>M8W</td>\n      <td>Etobicoke</td>\n      <td>Alderwood, Long Branch</td>\n      <td>43.601196</td>\n      <td>-79.538885</td>\n    </tr>\n    <tr>\n      <th>89</th>\n      <td>0</td>\n      <td>M6B</td>\n      <td>North York</td>\n      <td>Glencairn</td>\n      <td>43.707990</td>\n      <td>-79.448370</td>\n    </tr>\n    <tr>\n      <th>90</th>\n      <td>0</td>\n      <td>M1X</td>\n      <td>Scarborough</td>\n      <td>Upper Rouge</td>\n      <td>43.834215</td>\n      <td>-79.216701</td>\n    </tr>\n    <tr>\n      <th>91</th>\n      <td>0</td>\n      <td>M1L</td>\n      <td>Scarborough</td>\n      <td>Clairlea, Golden Mile, Oakridge</td>\n      <td>43.713213</td>\n      <td>-79.284910</td>\n    </tr>\n    <tr>\n      <th>92</th>\n      <td>0</td>\n      <td>M1T</td>\n      <td>Scarborough</td>\n      <td>Clarks Corners, Sullivan, Tam O'Shanter</td>\n      <td>43.784725</td>\n      <td>-79.299244</td>\n    </tr>\n    <tr>\n      <th>93</th>\n      <td>0</td>\n      <td>M8Y</td>\n      <td>Etobicoke</td>\n      <td>Humber Bay, King's Mill Park, Kingsway Park So...</td>\n      <td>43.632765</td>\n      <td>-79.489601</td>\n    </tr>\n    <tr>\n      <th>94</th>\n      <td>0</td>\n      <td>M4W</td>\n      <td>Downtown Toronto</td>\n      <td>Rosedale</td>\n      <td>43.681960</td>\n      <td>-79.378445</td>\n    </tr>\n    <tr>\n      <th>95</th>\n      <td>0</td>\n      <td>M3B</td>\n      <td>North York</td>\n      <td>Don Mills North</td>\n      <td>43.749055</td>\n      <td>-79.362212</td>\n    </tr>\n    <tr>\n      <th>96</th>\n      <td>0</td>\n      <td>M2N</td>\n      <td>North York</td>\n      <td>Willowdale South</td>\n      <td>43.768165</td>\n      <td>-79.407420</td>\n    </tr>\n    <tr>\n      <th>97</th>\n      <td>0</td>\n      <td>M5T</td>\n      <td>Downtown Toronto</td>\n      <td>Chinatown, Grange Park, Kensington Market</td>\n      <td>43.653525</td>\n      <td>-79.397231</td>\n    </tr>\n    <tr>\n      <th>98</th>\n      <td>0</td>\n      <td>M1N</td>\n      <td>Scarborough</td>\n      <td>Birch Cliff, Cliffside West</td>\n      <td>43.696690</td>\n      <td>-79.260069</td>\n    </tr>\n    <tr>\n      <th>99</th>\n      <td>0</td>\n      <td>M1M</td>\n      <td>Scarborough</td>\n      <td>Cliffcrest, Cliffside, Scarborough Village West</td>\n      <td>43.723575</td>\n      <td>-79.234976</td>\n    </tr>\n    <tr>\n      <th>100</th>\n      <td>0</td>\n      <td>M6N</td>\n      <td>York</td>\n      <td>The Junction North, Runnymede</td>\n      <td>43.675795</td>\n      <td>-79.481960</td>\n    </tr>\n    <tr>\n      <th>101</th>\n      <td>0</td>\n      <td>M5S</td>\n      <td>Downtown Toronto</td>\n      <td>Harbord, University of Toronto</td>\n      <td>43.663110</td>\n      <td>-79.401801</td>\n    </tr>\n    <tr>\n      <th>102</th>\n      <td>0</td>\n      <td>M4A</td>\n      <td>North York</td>\n      <td>Victoria Village</td>\n      <td>43.730417</td>\n      <td>-79.313340</td>\n    </tr>\n  </tbody>\n</table>\n<p>103 rows \u00d7 6 columns</p>\n</div>", 
                        "text/plain": "     index PostalCode           Borough  \\\n0        0        M5B  Downtown Toronto   \n1        0        M1S       Scarborough   \n2        0        M9W         Etobicoke   \n3        0        M5W  Downtown Toronto   \n4        0        M9C         Etobicoke   \n5        0        M4J         East York   \n6        0        M5E  Downtown Toronto   \n7        0        M8Z         Etobicoke   \n8        0        M8V         Etobicoke   \n9        0        M3M        North York   \n10       0        M7R       Mississauga   \n11       0        M5G  Downtown Toronto   \n12       0        M6A        North York   \n13       0        M4E      East Toronto   \n14       0        M9R         Etobicoke   \n15       0        M2R        North York   \n16       0        M1G       Scarborough   \n17       0        M1H       Scarborough   \n18       0        M5H  Downtown Toronto   \n19       0        M5R   Central Toronto   \n20       0        M8X         Etobicoke   \n21       0        M4X  Downtown Toronto   \n22       0        M5M        North York   \n23       0        M2K        North York   \n24       0        M3N        North York   \n25       0        M3H        North York   \n26       0        M6K      West Toronto   \n27       0        M2M        North York   \n28       0        M1V       Scarborough   \n29       0        M1B       Scarborough   \n..     ...        ...               ...   \n73       0        M3C        North York   \n74       0        M1E       Scarborough   \n75       0        M5L  Downtown Toronto   \n76       0        M3K        North York   \n77       0        M6M              York   \n78       0        M2L        North York   \n79       0        M6R      West Toronto   \n80       0        M4R   Central Toronto   \n81       0        M9V         Etobicoke   \n82       0        M6J      West Toronto   \n83       0        M1P       Scarborough   \n84       0        M4M      East Toronto   \n85       0        M4H         East York   \n86       0        M2P        North York   \n87       0        M4V   Central Toronto   \n88       0        M8W         Etobicoke   \n89       0        M6B        North York   \n90       0        M1X       Scarborough   \n91       0        M1L       Scarborough   \n92       0        M1T       Scarborough   \n93       0        M8Y         Etobicoke   \n94       0        M4W  Downtown Toronto   \n95       0        M3B        North York   \n96       0        M2N        North York   \n97       0        M5T  Downtown Toronto   \n98       0        M1N       Scarborough   \n99       0        M1M       Scarborough   \n100      0        M6N              York   \n101      0        M5S  Downtown Toronto   \n102      0        M4A        North York   \n\n                                          Neighborhood   Latitude  Longitude  \n0                             Ryerson, Garden District  43.657363 -79.378180  \n1                                            Agincourt  43.793940 -79.267976  \n2                                            Northwest  43.711740 -79.579410  \n3                      Stn A PO Boxes 25 The Esplanade  43.648690 -79.385440  \n4    Bloordale Gardens, Eringate, Markland Wood, Ol...  43.648573 -79.578250  \n5                                         East Toronto  43.688765 -79.334175  \n6                                          Berczy Park  43.645160 -79.373675  \n7    Kingsway Park South West, Mimico NW, The Queen...  43.625070 -79.527135  \n8         Humber Bay Shores, Mimico South, New Toronto  43.609920 -79.498049  \n9                                    Downsview Central  43.733610 -79.496750  \n10               Canada Post Gateway Processing Centre  43.645406 -79.617668  \n11                                  Central Bay Street  43.656091 -79.384930  \n12                    Lawrence Heights, Lawrence Manor  43.723270 -79.451603  \n13                                         The Beaches  43.676531 -79.295410  \n14   Kingsview Village, Martin Grove Gardens, Richv...  43.686810 -79.557284  \n15                                     Willowdale West  43.777745 -79.445700  \n16                                              Woburn  43.768216 -79.217610  \n17                                           Cedarbrae  43.769608 -79.239440  \n18                            Adelaide, King, Richmond  43.649700 -79.382582  \n19                 The Annex, North Midtown, Yorkville  43.674840 -79.403698  \n20       The Kingsway, Montgomery Road, Old Mill North  43.653590 -79.511130  \n21                         Cabbagetown, St. James Town  43.668155 -79.366600  \n22                   Bedford Park, Lawrence Manor East  43.735805 -79.419248  \n23                                     Bayview Village  43.781015 -79.380542  \n24                                 Downsview Northwest  43.755356 -79.519590  \n25     Bathurst Manor, Downsview North, Wilson Heights  43.757875 -79.448621  \n26        Brockton, Exhibition Place, Parkdale Village  43.639410 -79.425436  \n27                             Newtonbrook, Willowdale  43.791300 -79.413546  \n28   Agincourt North, L'Amoreaux East, Milliken, St...  43.817595 -79.280147  \n29                                      Rouge, Malvern  43.811650 -79.195561  \n..                                                 ...        ...        ...  \n73                    Flemingdon Park, Don Mills South  43.721375 -79.343415  \n74                   Guildwood, Morningside, West Hill  43.765690 -79.175299  \n75                      Commerce Court, Victoria Hotel  43.648395 -79.378865  \n76                         CFB Toronto, Downsview East  43.738931 -79.467320  \n77       Del Ray, Keelsdale, Mount Dennis, Silverthorn  43.694545 -79.484495  \n78                            Silver Hills, York Mills  43.757177 -79.379940  \n79                              Parkdale, Roncesvalles  43.647870 -79.449762  \n80                                  North Toronto West  43.714523 -79.406960  \n81   Albion Gardens, Beaumond Heights, Humbergate, ...  43.743795 -79.585431  \n82                            Little Portugal, Trinity  43.648525 -79.417757  \n83   Dorset Park, Scarborough Town Centre, Wexford ...  43.759975 -79.268974  \n84                                     Studio District  43.662766 -79.334830  \n85                                    Thorncliffe Park  43.701240 -79.349881  \n86                                     York Mills West  43.747810 -79.400062  \n87   Deer Park, Forest Hill SE, Rathnelly, South Hi...  43.686003 -79.402335  \n88                              Alderwood, Long Branch  43.601196 -79.538885  \n89                                           Glencairn  43.707990 -79.448370  \n90                                         Upper Rouge  43.834215 -79.216701  \n91                     Clairlea, Golden Mile, Oakridge  43.713213 -79.284910  \n92             Clarks Corners, Sullivan, Tam O'Shanter  43.784725 -79.299244  \n93   Humber Bay, King's Mill Park, Kingsway Park So...  43.632765 -79.489601  \n94                                            Rosedale  43.681960 -79.378445  \n95                                     Don Mills North  43.749055 -79.362212  \n96                                    Willowdale South  43.768165 -79.407420  \n97           Chinatown, Grange Park, Kensington Market  43.653525 -79.397231  \n98                         Birch Cliff, Cliffside West  43.696690 -79.260069  \n99     Cliffcrest, Cliffside, Scarborough Village West  43.723575 -79.234976  \n100                      The Junction North, Runnymede  43.675795 -79.481960  \n101                     Harbord, University of Toronto  43.663110 -79.401801  \n102                                   Victoria Village  43.730417 -79.313340  \n\n[103 rows x 6 columns]"
                    }, 
                    "metadata": {}
                }
            ], 
            "source": "resultB", 
            "metadata": {}, 
            "cell_type": "code"
        }
    ], 
    "metadata": {
        "kernelspec": {
            "name": "python3", 
            "display_name": "Python 3", 
            "language": "python"
        }, 
        "language_info": {
            "nbconvert_exporter": "python", 
            "mimetype": "text/x-python", 
            "version": "3.7.0", 
            "file_extension": ".py", 
            "name": "python", 
            "pygments_lexer": "ipython3", 
            "codemirror_mode": {
                "version": 3, 
                "name": "ipython"
            }
        }
    }
}