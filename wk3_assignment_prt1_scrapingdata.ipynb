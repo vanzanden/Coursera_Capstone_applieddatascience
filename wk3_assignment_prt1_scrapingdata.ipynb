{
    "nbformat": 4, 
    "nbformat_minor": 2, 
    "cells": [
        {
            "source": "# Peer-graded Assignment: \n## Segmenting and Clustering Neighborhoods in Toronto", 
            "cell_type": "markdown", 
            "metadata": {}
        }, 
        {
            "source": "### part 1: \nbased on information on wikipedia page https://en.wikipedia.org/wiki/List_of_postal_codes_of_Canada:_M create a pandas dataframe with columns\n    * PostalCode\n    * Borough\n    * Neighborhood\n   ", 
            "cell_type": "markdown", 
            "metadata": {}
        }, 
        {
            "source": "The wikipedia list is a list of postal codes in Canada where the first letter is M. \nPostal codes beginning with M are located within the city of Toronto in the province of Ontario.", 
            "cell_type": "markdown", 
            "metadata": {}
        }, 
        {
            "source": "### documentation\nhttps://beautiful-soup-4.readthedocs.io/en/latest/#\n\n see https://www.youtube.com/watch?v=ng2o98k983k for use of beautifullsoup\n    ", 
            "cell_type": "markdown", 
            "metadata": {}
        }, 
        {
            "execution_count": 1, 
            "metadata": {}, 
            "outputs": [
                {
                    "text": "Waiting for a Spark session to start...\nSpark Initialization Done! ApplicationId = app-20181102054449-0000\n", 
                    "name": "stdout", 
                    "output_type": "stream"
                }
            ], 
            "cell_type": "code", 
            "source": "# with open('simple.html') as html_file:\n#    soup = BeautifulSoup(html_file, 'lxml')\n# print(soup) ## the entire code, not indented   \n# print(soup.prettify()) ## indented\n\n# match = soup.title  ## finds the title tag (including tags)\n# match = soup.title.text\n# print(match)\n\n# match = soup.div\n# match = soup.find('div')   ## results the same (13:00)\n# match = soup.find('div', class_='footer')  ## finds a certain (here underscore because class is python specific word\n\n# article = soup.find('div', class_='article')\n# headline = article.h2.a.text\n# summary = article.p.text\n\n# for article in soup.find_all('div', class_='article'):\n#    headline = article.h2.a.text\n#    summary = article.p.text\n"
        }, 
        {
            "source": "### libraries install\n", 
            "cell_type": "markdown", 
            "metadata": {}
        }, 
        {
            "execution_count": 2, 
            "metadata": {}, 
            "outputs": [], 
            "cell_type": "code", 
            "source": "## in anaconda prompt:  \n## conda install -c conda-forge beautifulsoup4 --yes\n## conda install -c conda-forge lxml --yes   # 4:33\n## conda install -c conda-forge html5lib --yes   # not done"
        }, 
        {
            "source": "### libraries import\n", 
            "cell_type": "markdown", 
            "metadata": {}
        }, 
        {
            "execution_count": 3, 
            "metadata": {}, 
            "outputs": [], 
            "cell_type": "code", 
            "source": "from bs4 import BeautifulSoup \nimport requests\nimport pandas as pd\nimport numpy as np"
        }, 
        {
            "source": "### data scraping\n\nsee https://www.youtube.com/watch?v=ng2o98k983k for use of beautifullsoup", 
            "cell_type": "markdown", 
            "metadata": {}
        }, 
        {
            "execution_count": 4, 
            "metadata": {}, 
            "outputs": [
                {
                    "text": "/opt/ibm/conda/miniconda3/lib/python3.5/site-packages/bs4/__init__.py:181: UserWarning: No parser was explicitly specified, so I'm using the best available HTML parser for this system (\"html5lib\"). This usually isn't a problem, but if you run this code on another system, or in a different virtual environment, it may use a different parser and behave differently.\n\nThe code that caused this warning is on line 193 of the file /opt/ibm/conda/miniconda3/lib/python3.5/runpy.py. To get rid of this warning, change code that looks like this:\n\n BeautifulSoup(YOUR_MARKUP})\n\nto this:\n\n BeautifulSoup(YOUR_MARKUP, \"html5lib\")\n\n  markup_type=markup_type))\n", 
                    "name": "stderr", 
                    "output_type": "stream"
                }, 
                {
                    "text": "done\n", 
                    "name": "stdout", 
                    "output_type": "stream"
                }
            ], 
            "cell_type": "code", 
            "source": "url='https://en.wikipedia.org/wiki/List_of_postal_codes_of_Canada:_M'\nsource = requests.get(url).text\nsoup_raw = BeautifulSoup(source, 'html5')\n# print(soup_raw.prettify())\nprint(\"done\")"
        }, 
        {
            "execution_count": 5, 
            "metadata": {}, 
            "outputs": [
                {
                    "text": "done\n", 
                    "name": "stdout", 
                    "output_type": "stream"
                }
            ], 
            "cell_type": "code", 
            "source": "soup_table = soup_raw.tbody\n# print(soup_table)\n## parser has added columnnames into tbody while wikipediasite had a thead-tag\nprint(\"done\")"
        }, 
        {
            "execution_count": 6, 
            "metadata": {
                "scrolled": true
            }, 
            "outputs": [
                {
                    "text": "done\n", 
                    "name": "stdout", 
                    "output_type": "stream"
                }
            ], 
            "cell_type": "code", 
            "source": "## building the dataframe from the soup_table result\nscraped_result = []\n#result = pd.DataFrame(columns = [\"PostalCode\"])\nscraped_result = pd.DataFrame(columns = [\"PostalCode\",\"Borough\",\"Neighborhood\"])\nfor soup_tr in soup_table.find_all('tr'):\n    i = 1 \n    ## for empty records in tablerows where there is no table data (like the table header line) a dummy result is given\n    PostalCode = \"A1A\"\n    Borough = \"Not assigned\"\n    Neighborhood = \"Not assigned\"\n    for  soup_td in soup_tr.find_all('td'):\n        if i == 3:\n            Neighborhood = str(soup_td.text)\n            Neighborhood = Neighborhood.replace(\"\\n\",\"\")\n        if i == 2:\n            Borough = str(soup_td.text)\n            i = 3\n        if i == 1:\n            PostalCode = str(soup_td.text)\n            i = 2\n    newline = pd.DataFrame([[PostalCode,Borough,Neighborhood]], columns = [\"PostalCode\",\"Borough\",\"Neighborhood\"] )\n    scraped_result = scraped_result.append(newline, ignore_index=True)\nprint('done')\n# scraped_result\n#newline"
        }, 
        {
            "source": "### cleaning data", 
            "cell_type": "markdown", 
            "metadata": {}
        }, 
        {
            "source": "***\"Only process the cells that have an assigned borough. Ignore cells with a borough that is Not assigned.\"***", 
            "cell_type": "markdown", 
            "metadata": {}
        }, 
        {
            "execution_count": 7, 
            "metadata": {}, 
            "outputs": [
                {
                    "text": "done\n", 
                    "name": "stdout", 
                    "output_type": "stream"
                }
            ], 
            "cell_type": "code", 
            "source": "## removing lines with \"Not assigned\" in Borough, this includes eventual dummy records\ncleaning1 = scraped_result\ncleaning1 = cleaning1.loc[cleaning1['Borough'] != \"Not assigned\"]\nprint('done')\n# cleaning1"
        }, 
        {
            "source": "***If a cell has a borough but a Not assigned neighborhood, then the neighborhood will be the same as the borough. So for the 9th cell in the table on the Wikipedia page, the value of the Borough and the Neighborhood columns will be Queen's Park.***", 
            "cell_type": "markdown", 
            "metadata": {}
        }, 
        {
            "execution_count": 8, 
            "metadata": {}, 
            "outputs": [
                {
                    "text": "done\n", 
                    "name": "stdout", 
                    "output_type": "stream"
                }, 
                {
                    "text": "/opt/ibm/conda/miniconda3/lib/python3.5/site-packages/ipykernel/__main__.py:8: SettingWithCopyWarning: \nA value is trying to be set on a copy of a slice from a DataFrame.\nTry using .loc[row_indexer,col_indexer] = value instead\n\nSee the caveats in the documentation: http://pandas.pydata.org/pandas-docs/stable/indexing.html#indexing-view-versus-copy\n", 
                    "name": "stderr", 
                    "output_type": "stream"
                }
            ], 
            "cell_type": "code", 
            "source": "## where \"not assigned\" in Neighborhood copy the name of the borough\n## assumption is made that this never applies for PostalCodes which cover multiple Neighborhoods, \n## hence the order of cleaning can be different than in the 'rules' of the assignment \ncleaning2 = cleaning1\n## splitting the dataset in two parts, not to be adjusted, and to adjusted\ncleaning2a = cleaning2.loc[cleaning2['Neighborhood'] != \"Not assigned\"]\ncleaning2b = cleaning2.loc[cleaning2['Neighborhood'] == \"Not assigned\"]\ncleaning2b['Neighborhood'] = cleaning2b['Borough'] \n## previous line induced the following error: \n##     \"A value is trying to be set on a copy of a slice from a DataFrame.\n##     Try using .loc[row_indexer,col_indexer] = value instead\n##     See the caveats in the documentation: \n##     http://pandas.pydata.org/pandas-docs/stable/indexing.html#indexing-view-versus-copy\"\n## In this case it is a false positive: \n## see https://stackoverflow.com/questions/20625582/how-to-deal-with-settingwithcopywarning-in-pandas#20627316\n\n## and combining the two parts\ncleaning2 = cleaning2a.append(cleaning2b)\nprint('done')\n# cleaning2\n"
        }, 
        {
            "source": "***More than one neighborhood can exist in one postal code area. \nFor example, in the table on the Wikipedia page, you will notice that M5A is listed twice and has two neighborhoods: Harbourfront and Regent Park. \nThese two rows will be combined into one row with the neighborhoods separated with a comma (and a space)***", 
            "cell_type": "markdown", 
            "metadata": {}
        }, 
        {
            "execution_count": 9, 
            "metadata": {}, 
            "outputs": [
                {
                    "text": "done\n", 
                    "name": "stdout", 
                    "output_type": "stream"
                }
            ], 
            "cell_type": "code", 
            "source": "## the dataframe cleaning3 is buildup by adding lines from previous step (cleaning2)\ncleaning3 = pd.DataFrame(columns = [\"PostalCode\", \"Borough\", \"Neighborhood\"])\nfor postalcode in set(cleaning2['PostalCode']):\n    tempstring = ''\n    no_of_neighborhoods = cleaning2[cleaning2['PostalCode'] == postalcode].shape[0]\n    ## making a small dataframe with just the current postalcode\n    tempdata = cleaning2[cleaning2['PostalCode'] == postalcode]\n    tempdata = tempdata.reset_index()\n    for i in range(0,no_of_neighborhoods):\n        ## the assumption is made that each PostalCode, even when it compasses more than one Neighborhood\n        ## it only compasses only one Borough. so it doesn't matter from which line the borough information comes\n        borough = tempdata.loc[i,'Borough']\n        strippednb = tempdata.loc[i,'Neighborhood'].strip()\n        tempstring = tempstring + strippednb \n        if i < no_of_neighborhoods-1:\n            tempstring = tempstring + \", \"\n    newline = pd.DataFrame([[postalcode,borough,tempstring]], columns = [\"PostalCode\",\"Borough\",\"Neighborhood\"] )\n    cleaning3 = cleaning3.append(newline)\n\ncleaning3 = cleaning3.reset_index()\nprint('done')\n#cleaning3 \n"
        }, 
        {
            "execution_count": 10, 
            "metadata": {}, 
            "outputs": [], 
            "cell_type": "code", 
            "source": "resultA = cleaning3"
        }, 
        {
            "source": "## results", 
            "cell_type": "markdown", 
            "metadata": {}
        }, 
        {
            "execution_count": 11, 
            "metadata": {}, 
            "outputs": [
                {
                    "data": {
                        "text/plain": "     index PostalCode           Borough  \\\n0        0        M4J         East York   \n1        0        M5S  Downtown Toronto   \n2        0        M6S      West Toronto   \n3        0        M6H      West Toronto   \n4        0        M9V         Etobicoke   \n5        0        M1J       Scarborough   \n6        0        M6E              York   \n7        0        M4V   Central Toronto   \n8        0        M5G  Downtown Toronto   \n9        0        M5C  Downtown Toronto   \n10       0        M2M        North York   \n11       0        M1W       Scarborough   \n12       0        M1C       Scarborough   \n13       0        M1E       Scarborough   \n14       0        M1G       Scarborough   \n15       0        M8Y         Etobicoke   \n16       0        M4A        North York   \n17       0        M9A         Etobicoke   \n18       0        M4G         East York   \n19       0        M5K  Downtown Toronto   \n20       0        M2L        North York   \n21       0        M5T  Downtown Toronto   \n22       0        M1R       Scarborough   \n23       0        M5X  Downtown Toronto   \n24       0        M1H       Scarborough   \n25       0        M1M       Scarborough   \n26       0        M5L  Downtown Toronto   \n27       0        M1P       Scarborough   \n28       0        M1B       Scarborough   \n29       0        M3J        North York   \n..     ...        ...               ...   \n73       0        M7A      Queen's Park   \n74       0        M3A        North York   \n75       0        M6G  Downtown Toronto   \n76       0        M4B         East York   \n77       0        M2H        North York   \n78       0        M8V         Etobicoke   \n79       0        M4P   Central Toronto   \n80       0        M4C         East York   \n81       0        M2N        North York   \n82       0        M4H         East York   \n83       0        M4E      East Toronto   \n84       0        M3B        North York   \n85       0        M9L        North York   \n86       0        M6B        North York   \n87       0        M3L        North York   \n88       0        M1X       Scarborough   \n89       0        M3M        North York   \n90       0        M3H        North York   \n91       0        M6L        North York   \n92       0        M8Z         Etobicoke   \n93       0        M5H  Downtown Toronto   \n94       0        M9R         Etobicoke   \n95       0        M2K        North York   \n96       0        M5P   Central Toronto   \n97       0        M7R       Mississauga   \n98       0        M9P         Etobicoke   \n99       0        M1N       Scarborough   \n100      0        M5B  Downtown Toronto   \n101      0        M4K      East Toronto   \n102      0        M5W  Downtown Toronto   \n\n                                          Neighborhood  \n0                                         East Toronto  \n1                       Harbord, University of Toronto  \n2                                   Runnymede, Swansea  \n3                         Dovercourt Village, Dufferin  \n4    Albion Gardens, Beaumond Heights, Humbergate, ...  \n5                                  Scarborough Village  \n6                                  Caledonia-Fairbanks  \n7    Deer Park, Forest Hill SE, Rathnelly, South Hi...  \n8                                   Central Bay Street  \n9                                       St. James Town  \n10                             Newtonbrook, Willowdale  \n11                       L'Amoreaux West, Steeles West  \n12              Highland Creek, Rouge Hill, Port Union  \n13                   Guildwood, Morningside, West Hill  \n14                                              Woburn  \n15   Humber Bay, King's Mill Park, Kingsway Park So...  \n16                                    Victoria Village  \n17                                    Islington Avenue  \n18                                             Leaside  \n19            Design Exchange, Toronto Dominion Centre  \n20                            Silver Hills, York Mills  \n21           Chinatown, Grange Park, Kensington Market  \n22                                   Maryvale, Wexford  \n23              First Canadian Place, Underground city  \n24                                           Cedarbrae  \n25     Cliffcrest, Cliffside, Scarborough Village West  \n26                      Commerce Court, Victoria Hotel  \n27   Dorset Park, Scarborough Town Centre, Wexford ...  \n28                                      Rouge, Malvern  \n29                     Northwood Park, York University  \n..                                                 ...  \n73                                        Queen's Park  \n74                                           Parkwoods  \n75                                            Christie  \n76                     Woodbine Gardens, Parkview Hill  \n77                                   Hillcrest Village  \n78        Humber Bay Shores, Mimico South, New Toronto  \n79                                    Davisville North  \n80                                    Woodbine Heights  \n81                                    Willowdale South  \n82                                    Thorncliffe Park  \n83                                         The Beaches  \n84                                     Don Mills North  \n85                                       Humber Summit  \n86                                           Glencairn  \n87                                      Downsview West  \n88                                         Upper Rouge  \n89                                   Downsview Central  \n90     Bathurst Manor, Downsview North, Wilson Heights  \n91            Maple Leaf Park, North Park, Upwood Park  \n92   Kingsway Park South West, Mimico NW, The Queen...  \n93                            Adelaide, King, Richmond  \n94   Kingsview Village, Martin Grove Gardens, Richv...  \n95                                     Bayview Village  \n96                 Forest Hill North, Forest Hill West  \n97               Canada Post Gateway Processing Centre  \n98                                           Westmount  \n99                         Birch Cliff, Cliffside West  \n100                           Ryerson, Garden District  \n101                       The Danforth West, Riverdale  \n102                    Stn A PO Boxes 25 The Esplanade  \n\n[103 rows x 4 columns]", 
                        "text/html": "<div>\n<style scoped>\n    .dataframe tbody tr th:only-of-type {\n        vertical-align: middle;\n    }\n\n    .dataframe tbody tr th {\n        vertical-align: top;\n    }\n\n    .dataframe thead th {\n        text-align: right;\n    }\n</style>\n<table border=\"1\" class=\"dataframe\">\n  <thead>\n    <tr style=\"text-align: right;\">\n      <th></th>\n      <th>index</th>\n      <th>PostalCode</th>\n      <th>Borough</th>\n      <th>Neighborhood</th>\n    </tr>\n  </thead>\n  <tbody>\n    <tr>\n      <th>0</th>\n      <td>0</td>\n      <td>M4J</td>\n      <td>East York</td>\n      <td>East Toronto</td>\n    </tr>\n    <tr>\n      <th>1</th>\n      <td>0</td>\n      <td>M5S</td>\n      <td>Downtown Toronto</td>\n      <td>Harbord, University of Toronto</td>\n    </tr>\n    <tr>\n      <th>2</th>\n      <td>0</td>\n      <td>M6S</td>\n      <td>West Toronto</td>\n      <td>Runnymede, Swansea</td>\n    </tr>\n    <tr>\n      <th>3</th>\n      <td>0</td>\n      <td>M6H</td>\n      <td>West Toronto</td>\n      <td>Dovercourt Village, Dufferin</td>\n    </tr>\n    <tr>\n      <th>4</th>\n      <td>0</td>\n      <td>M9V</td>\n      <td>Etobicoke</td>\n      <td>Albion Gardens, Beaumond Heights, Humbergate, ...</td>\n    </tr>\n    <tr>\n      <th>5</th>\n      <td>0</td>\n      <td>M1J</td>\n      <td>Scarborough</td>\n      <td>Scarborough Village</td>\n    </tr>\n    <tr>\n      <th>6</th>\n      <td>0</td>\n      <td>M6E</td>\n      <td>York</td>\n      <td>Caledonia-Fairbanks</td>\n    </tr>\n    <tr>\n      <th>7</th>\n      <td>0</td>\n      <td>M4V</td>\n      <td>Central Toronto</td>\n      <td>Deer Park, Forest Hill SE, Rathnelly, South Hi...</td>\n    </tr>\n    <tr>\n      <th>8</th>\n      <td>0</td>\n      <td>M5G</td>\n      <td>Downtown Toronto</td>\n      <td>Central Bay Street</td>\n    </tr>\n    <tr>\n      <th>9</th>\n      <td>0</td>\n      <td>M5C</td>\n      <td>Downtown Toronto</td>\n      <td>St. James Town</td>\n    </tr>\n    <tr>\n      <th>10</th>\n      <td>0</td>\n      <td>M2M</td>\n      <td>North York</td>\n      <td>Newtonbrook, Willowdale</td>\n    </tr>\n    <tr>\n      <th>11</th>\n      <td>0</td>\n      <td>M1W</td>\n      <td>Scarborough</td>\n      <td>L'Amoreaux West, Steeles West</td>\n    </tr>\n    <tr>\n      <th>12</th>\n      <td>0</td>\n      <td>M1C</td>\n      <td>Scarborough</td>\n      <td>Highland Creek, Rouge Hill, Port Union</td>\n    </tr>\n    <tr>\n      <th>13</th>\n      <td>0</td>\n      <td>M1E</td>\n      <td>Scarborough</td>\n      <td>Guildwood, Morningside, West Hill</td>\n    </tr>\n    <tr>\n      <th>14</th>\n      <td>0</td>\n      <td>M1G</td>\n      <td>Scarborough</td>\n      <td>Woburn</td>\n    </tr>\n    <tr>\n      <th>15</th>\n      <td>0</td>\n      <td>M8Y</td>\n      <td>Etobicoke</td>\n      <td>Humber Bay, King's Mill Park, Kingsway Park So...</td>\n    </tr>\n    <tr>\n      <th>16</th>\n      <td>0</td>\n      <td>M4A</td>\n      <td>North York</td>\n      <td>Victoria Village</td>\n    </tr>\n    <tr>\n      <th>17</th>\n      <td>0</td>\n      <td>M9A</td>\n      <td>Etobicoke</td>\n      <td>Islington Avenue</td>\n    </tr>\n    <tr>\n      <th>18</th>\n      <td>0</td>\n      <td>M4G</td>\n      <td>East York</td>\n      <td>Leaside</td>\n    </tr>\n    <tr>\n      <th>19</th>\n      <td>0</td>\n      <td>M5K</td>\n      <td>Downtown Toronto</td>\n      <td>Design Exchange, Toronto Dominion Centre</td>\n    </tr>\n    <tr>\n      <th>20</th>\n      <td>0</td>\n      <td>M2L</td>\n      <td>North York</td>\n      <td>Silver Hills, York Mills</td>\n    </tr>\n    <tr>\n      <th>21</th>\n      <td>0</td>\n      <td>M5T</td>\n      <td>Downtown Toronto</td>\n      <td>Chinatown, Grange Park, Kensington Market</td>\n    </tr>\n    <tr>\n      <th>22</th>\n      <td>0</td>\n      <td>M1R</td>\n      <td>Scarborough</td>\n      <td>Maryvale, Wexford</td>\n    </tr>\n    <tr>\n      <th>23</th>\n      <td>0</td>\n      <td>M5X</td>\n      <td>Downtown Toronto</td>\n      <td>First Canadian Place, Underground city</td>\n    </tr>\n    <tr>\n      <th>24</th>\n      <td>0</td>\n      <td>M1H</td>\n      <td>Scarborough</td>\n      <td>Cedarbrae</td>\n    </tr>\n    <tr>\n      <th>25</th>\n      <td>0</td>\n      <td>M1M</td>\n      <td>Scarborough</td>\n      <td>Cliffcrest, Cliffside, Scarborough Village West</td>\n    </tr>\n    <tr>\n      <th>26</th>\n      <td>0</td>\n      <td>M5L</td>\n      <td>Downtown Toronto</td>\n      <td>Commerce Court, Victoria Hotel</td>\n    </tr>\n    <tr>\n      <th>27</th>\n      <td>0</td>\n      <td>M1P</td>\n      <td>Scarborough</td>\n      <td>Dorset Park, Scarborough Town Centre, Wexford ...</td>\n    </tr>\n    <tr>\n      <th>28</th>\n      <td>0</td>\n      <td>M1B</td>\n      <td>Scarborough</td>\n      <td>Rouge, Malvern</td>\n    </tr>\n    <tr>\n      <th>29</th>\n      <td>0</td>\n      <td>M3J</td>\n      <td>North York</td>\n      <td>Northwood Park, York University</td>\n    </tr>\n    <tr>\n      <th>...</th>\n      <td>...</td>\n      <td>...</td>\n      <td>...</td>\n      <td>...</td>\n    </tr>\n    <tr>\n      <th>73</th>\n      <td>0</td>\n      <td>M7A</td>\n      <td>Queen's Park</td>\n      <td>Queen's Park</td>\n    </tr>\n    <tr>\n      <th>74</th>\n      <td>0</td>\n      <td>M3A</td>\n      <td>North York</td>\n      <td>Parkwoods</td>\n    </tr>\n    <tr>\n      <th>75</th>\n      <td>0</td>\n      <td>M6G</td>\n      <td>Downtown Toronto</td>\n      <td>Christie</td>\n    </tr>\n    <tr>\n      <th>76</th>\n      <td>0</td>\n      <td>M4B</td>\n      <td>East York</td>\n      <td>Woodbine Gardens, Parkview Hill</td>\n    </tr>\n    <tr>\n      <th>77</th>\n      <td>0</td>\n      <td>M2H</td>\n      <td>North York</td>\n      <td>Hillcrest Village</td>\n    </tr>\n    <tr>\n      <th>78</th>\n      <td>0</td>\n      <td>M8V</td>\n      <td>Etobicoke</td>\n      <td>Humber Bay Shores, Mimico South, New Toronto</td>\n    </tr>\n    <tr>\n      <th>79</th>\n      <td>0</td>\n      <td>M4P</td>\n      <td>Central Toronto</td>\n      <td>Davisville North</td>\n    </tr>\n    <tr>\n      <th>80</th>\n      <td>0</td>\n      <td>M4C</td>\n      <td>East York</td>\n      <td>Woodbine Heights</td>\n    </tr>\n    <tr>\n      <th>81</th>\n      <td>0</td>\n      <td>M2N</td>\n      <td>North York</td>\n      <td>Willowdale South</td>\n    </tr>\n    <tr>\n      <th>82</th>\n      <td>0</td>\n      <td>M4H</td>\n      <td>East York</td>\n      <td>Thorncliffe Park</td>\n    </tr>\n    <tr>\n      <th>83</th>\n      <td>0</td>\n      <td>M4E</td>\n      <td>East Toronto</td>\n      <td>The Beaches</td>\n    </tr>\n    <tr>\n      <th>84</th>\n      <td>0</td>\n      <td>M3B</td>\n      <td>North York</td>\n      <td>Don Mills North</td>\n    </tr>\n    <tr>\n      <th>85</th>\n      <td>0</td>\n      <td>M9L</td>\n      <td>North York</td>\n      <td>Humber Summit</td>\n    </tr>\n    <tr>\n      <th>86</th>\n      <td>0</td>\n      <td>M6B</td>\n      <td>North York</td>\n      <td>Glencairn</td>\n    </tr>\n    <tr>\n      <th>87</th>\n      <td>0</td>\n      <td>M3L</td>\n      <td>North York</td>\n      <td>Downsview West</td>\n    </tr>\n    <tr>\n      <th>88</th>\n      <td>0</td>\n      <td>M1X</td>\n      <td>Scarborough</td>\n      <td>Upper Rouge</td>\n    </tr>\n    <tr>\n      <th>89</th>\n      <td>0</td>\n      <td>M3M</td>\n      <td>North York</td>\n      <td>Downsview Central</td>\n    </tr>\n    <tr>\n      <th>90</th>\n      <td>0</td>\n      <td>M3H</td>\n      <td>North York</td>\n      <td>Bathurst Manor, Downsview North, Wilson Heights</td>\n    </tr>\n    <tr>\n      <th>91</th>\n      <td>0</td>\n      <td>M6L</td>\n      <td>North York</td>\n      <td>Maple Leaf Park, North Park, Upwood Park</td>\n    </tr>\n    <tr>\n      <th>92</th>\n      <td>0</td>\n      <td>M8Z</td>\n      <td>Etobicoke</td>\n      <td>Kingsway Park South West, Mimico NW, The Queen...</td>\n    </tr>\n    <tr>\n      <th>93</th>\n      <td>0</td>\n      <td>M5H</td>\n      <td>Downtown Toronto</td>\n      <td>Adelaide, King, Richmond</td>\n    </tr>\n    <tr>\n      <th>94</th>\n      <td>0</td>\n      <td>M9R</td>\n      <td>Etobicoke</td>\n      <td>Kingsview Village, Martin Grove Gardens, Richv...</td>\n    </tr>\n    <tr>\n      <th>95</th>\n      <td>0</td>\n      <td>M2K</td>\n      <td>North York</td>\n      <td>Bayview Village</td>\n    </tr>\n    <tr>\n      <th>96</th>\n      <td>0</td>\n      <td>M5P</td>\n      <td>Central Toronto</td>\n      <td>Forest Hill North, Forest Hill West</td>\n    </tr>\n    <tr>\n      <th>97</th>\n      <td>0</td>\n      <td>M7R</td>\n      <td>Mississauga</td>\n      <td>Canada Post Gateway Processing Centre</td>\n    </tr>\n    <tr>\n      <th>98</th>\n      <td>0</td>\n      <td>M9P</td>\n      <td>Etobicoke</td>\n      <td>Westmount</td>\n    </tr>\n    <tr>\n      <th>99</th>\n      <td>0</td>\n      <td>M1N</td>\n      <td>Scarborough</td>\n      <td>Birch Cliff, Cliffside West</td>\n    </tr>\n    <tr>\n      <th>100</th>\n      <td>0</td>\n      <td>M5B</td>\n      <td>Downtown Toronto</td>\n      <td>Ryerson, Garden District</td>\n    </tr>\n    <tr>\n      <th>101</th>\n      <td>0</td>\n      <td>M4K</td>\n      <td>East Toronto</td>\n      <td>The Danforth West, Riverdale</td>\n    </tr>\n    <tr>\n      <th>102</th>\n      <td>0</td>\n      <td>M5W</td>\n      <td>Downtown Toronto</td>\n      <td>Stn A PO Boxes 25 The Esplanade</td>\n    </tr>\n  </tbody>\n</table>\n<p>103 rows \u00d7 4 columns</p>\n</div>"
                    }, 
                    "execution_count": 11, 
                    "output_type": "execute_result", 
                    "metadata": {}
                }
            ], 
            "cell_type": "code", 
            "source": "resultA"
        }, 
        {
            "execution_count": 12, 
            "metadata": {}, 
            "outputs": [
                {
                    "data": {
                        "text/plain": "(103, 4)"
                    }, 
                    "execution_count": 12, 
                    "output_type": "execute_result", 
                    "metadata": {}
                }
            ], 
            "cell_type": "code", 
            "source": "resultA.shape"
        }
    ], 
    "metadata": {
        "language_info": {
            "pygments_lexer": "ipython3", 
            "mimetype": "text/x-python", 
            "name": "python", 
            "version": "3.5.4", 
            "nbconvert_exporter": "python", 
            "file_extension": ".py", 
            "codemirror_mode": {
                "name": "ipython", 
                "version": 3
            }
        }, 
        "kernelspec": {
            "language": "python3", 
            "display_name": "Python 3.5 with Spark", 
            "name": "python3"
        }
    }
}