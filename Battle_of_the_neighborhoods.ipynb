{
    "nbformat": 4, 
    "nbformat_minor": 1, 
    "cells": [
        {
            "source": "## Battle of the neighborhoods\n\nThis notebook is made by Marco van Zanden as part of the Coursera/IBM Applied Data Science training. The battle of the neigborhoods is the capstone project, estimated to consist of 100 hours of work. \n\n", 
            "cell_type": "markdown", 
            "metadata": {
                "collapsed": true
            }
        }, 
        {
            "execution_count": 3, 
            "outputs": [
                {
                    "output_type": "stream", 
                    "text": "importing libraries: done\n", 
                    "name": "stdout"
                }
            ], 
            "source": "import numpy as np\nimport pandas as pd\nprint(\"importing libraries: done\")", 
            "metadata": {
                "scrolled": true
            }, 
            "cell_type": "code"
        }, 
        {
            "execution_count": 4, 
            "outputs": [
                {
                    "output_type": "stream", 
                    "text": "Hello Capstone Project Course!\n", 
                    "name": "stdout"
                }
            ], 
            "source": "print(\"Hello Capstone Project Course!\")", 
            "metadata": {}, 
            "cell_type": "code"
        }
    ], 
    "metadata": {
        "kernelspec": {
            "name": "python3", 
            "display_name": "Python 3.5", 
            "language": "python"
        }, 
        "language_info": {
            "nbconvert_exporter": "python", 
            "mimetype": "text/x-python", 
            "version": "3.5.5", 
            "file_extension": ".py", 
            "name": "python", 
            "pygments_lexer": "ipython3", 
            "codemirror_mode": {
                "version": 3, 
                "name": "ipython"
            }
        }
    }
}