{
    "nbformat_minor": 1, 
    "cells": [
        {
            "source": "## Battle of the neighborhoods\n\nThis notebook is made by Marco van Zanden as part of the Coursera/IBM Applied Data Science training. The battle of the neigborhoods is the capstone project, estimated to consist of 100 hours of work. \n\n", 
            "cell_type": "markdown", 
            "metadata": {
                "collapsed": true
            }
        }, 
        {
            "source": "import numpy as np\nimport pandas as pd\nprint(\"importing libraries: done\")", 
            "metadata": {
                "scrolled": true
            }, 
            "execution_count": 3, 
            "cell_type": "code", 
            "outputs": [
                {
                    "name": "stdout", 
                    "text": "importing libraries: done\n", 
                    "output_type": "stream"
                }
            ]
        }, 
        {
            "source": "print(\"Hello Capstone Project Course!\")", 
            "metadata": {}, 
            "execution_count": 4, 
            "cell_type": "code", 
            "outputs": [
                {
                    "name": "stdout", 
                    "text": "Hello Capstone Project Course!\n", 
                    "output_type": "stream"
                }
            ]
        }
    ], 
    "nbformat": 4, 
    "metadata": {
        "kernelspec": {
            "name": "python3", 
            "language": "python", 
            "display_name": "Python 3.5"
        }, 
        "language_info": {
            "name": "python", 
            "pygments_lexer": "ipython3", 
            "mimetype": "text/x-python", 
            "codemirror_mode": {
                "name": "ipython", 
                "version": 3
            }, 
            "file_extension": ".py", 
            "version": "3.5.5", 
            "nbconvert_exporter": "python"
        }
    }
}